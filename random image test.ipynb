{
 "cells": [
  {
   "cell_type": "code",
   "execution_count": 1,
   "id": "3bdb3b16-f2e9-4cb4-b434-b2bf290f0af8",
   "metadata": {},
   "outputs": [],
   "source": [
    "# create function to test random images\n",
    "\n",
    "import random\n",
    "\n",
    "def plot_random_image(model, images, true_labels, classes):\n",
    "    \"\"\"\n",
    "    Picks a random image plot it and label it with predicted and true lables.\n",
    "    \n",
    "    can be used for for evaluation of image classification model\n",
    "    \"\"\"\n",
    "    \n",
    "    # set a random integer\n",
    "    i = random.randint(0, len(images))\n",
    "    \n",
    "    # select target image and make prediction on it\n",
    "    target_image = images[i]\n",
    "    pred_probs = model.predict(target_image.reshape(tf.expand_dims(images[0], axis = 0).shape.as_list())) # predicted probabilities\n",
    "    pred_label = classes[pred_probs.argmax()]\n",
    "    true_label = classes[true_labels[i]]\n",
    "    \n",
    "    # plot the image\n",
    "    plt.imshow(target_image, cmap = plt.cm.binary)\n",
    "    \n",
    "    # change color of title depending on prediction\n",
    "    \n",
    "    if pred_label == true_label:\n",
    "        color = \"green\"\n",
    "    else:\n",
    "        color = \"red\"\n",
    "        \n",
    "    # xlabel information (predicted and true label)\n",
    "    plt.xlabel(\"Prediction : {} {:2.0f}% (True : {})\". format(pred_label, 100* tf.reduce_max(pred_probs),\n",
    "                                                                 true_label), color = color)"
   ]
  },
  {
   "cell_type": "code",
   "execution_count": null,
   "id": "3ba8a78d-a344-4efc-b577-ce31e0e48f6e",
   "metadata": {},
   "outputs": [],
   "source": []
  }
 ],
 "metadata": {
  "kernelspec": {
   "display_name": "Python 3",
   "language": "python",
   "name": "python3"
  },
  "language_info": {
   "codemirror_mode": {
    "name": "ipython",
    "version": 3
   },
   "file_extension": ".py",
   "mimetype": "text/x-python",
   "name": "python",
   "nbconvert_exporter": "python",
   "pygments_lexer": "ipython3",
   "version": "3.8.8"
  }
 },
 "nbformat": 4,
 "nbformat_minor": 5
}
