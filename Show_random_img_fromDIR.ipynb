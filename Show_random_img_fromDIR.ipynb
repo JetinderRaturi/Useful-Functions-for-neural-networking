{
 "cells": [
  {
   "cell_type": "code",
   "execution_count": 2,
   "id": "a55a2992-5948-4b1d-a207-013cae3859c9",
   "metadata": {},
   "outputs": [],
   "source": [
    "import matplotlib.pyplot as plt\n",
    "import matplotlib.image as mpimg\n",
    "import random\n",
    "\n",
    "def view_random_image(target_dir, target_class):\n",
    "    \"\"\"\n",
    "    to visulise random images from a directory and the shape of the image\n",
    "    directory structure example:-\n",
    "    pizza_stake(f) >>> test(f) >>> pizza(f) >>> pizza_image.jpg(n number of images)\n",
    "                                  >>> Steak(f) >>> Stake_image.jpg(n number of images)\n",
    "                                \n",
    "                    >>> train(f) >>> pizza(f) >>> pizza_image.jpg(n number of images)\n",
    "                                    >>> Steak(f) >>> Stake_image.jpg(n number of images)\n",
    "                                     \n",
    "    \"\"\"\n",
    "    # set up the target folder\n",
    "    target_folder = target_dir + \"/\" + target_class\n",
    "    \n",
    "    # get random image\n",
    "    random_image = random.sample(os.listdir(target_folder), 1)\n",
    "    \n",
    "    # read and plot the image\n",
    "    img = mpimg.imread(target_folder + \"/\" + random_image[0])\n",
    "    plt.imshow(img)\n",
    "    plt.title(target_class)\n",
    "    plt.axis(\"off\")\n",
    "    \n",
    "    # print the shape of image\n",
    "    print(f\"image shape : {img.shape}\")\n",
    "    \n",
    "    return img"
   ]
  },
  {
   "cell_type": "code",
   "execution_count": null,
   "id": "8dbf6bcc-14b3-4728-816f-6eddafa354d5",
   "metadata": {},
   "outputs": [],
   "source": []
  }
 ],
 "metadata": {
  "kernelspec": {
   "display_name": "Python 3",
   "language": "python",
   "name": "python3"
  },
  "language_info": {
   "codemirror_mode": {
    "name": "ipython",
    "version": 3
   },
   "file_extension": ".py",
   "mimetype": "text/x-python",
   "name": "python",
   "nbconvert_exporter": "python",
   "pygments_lexer": "ipython3",
   "version": "3.8.8"
  }
 },
 "nbformat": 4,
 "nbformat_minor": 5
}
