{
 "cells": [
  {
   "cell_type": "code",
   "execution_count": null,
   "id": "ac91efe5-b86a-495b-8833-8159dcdade5b",
   "metadata": {},
   "outputs": [],
   "source": [
    "# make the confusion matrix function\n",
    "import itertools\n",
    "from sklearn.metrics import confusion_matrix\n",
    "\n",
    "def make_confusion_matrix(y_true, y_pred, classes=None, figsize=(10, 10), text_size=15):\n",
    "    \"\"\"\n",
    "    This function creates congusion Matrix\n",
    "    \"\"\"\n",
    "  # Create the confusion matrix\n",
    "  cm = confusion_matrix(y_true, y_pred)\n",
    "  cm_norm = cm.astype(\"float\") / cm.sum(axis=1)[:, np.newaxis] # normalize our confusion matrix\n",
    "  n_classes = cm.shape[0]\n",
    "\n",
    "  # Let's prettify it\n",
    "  fig, ax = plt.subplots(figsize=figsize)\n",
    "  # Create a matrix plot\n",
    "  cax = ax.matshow(cm, cmap=plt.cm.Blues)\n",
    "  fig.colorbar(cax)\n",
    "\n",
    "  # Set labels to be classes \n",
    "  if classes:\n",
    "    labels = classes\n",
    "  else:\n",
    "    labels = np.arange(cm.shape[0])\n",
    "\n",
    "  # Label the axes\n",
    "  ax.set(title=\"Confusion Matrix\",\n",
    "        xlabel=\"Predicted Label\",\n",
    "        ylabel=\"True Label\",\n",
    "        xticks=np.arange(n_classes),\n",
    "        yticks=np.arange(n_classes),\n",
    "        xticklabels=labels, \n",
    "        yticklabels=labels)\n",
    "\n",
    "  # Set x-axis labels to bottom\n",
    "  ax.xaxis.set_label_position(\"bottom\")\n",
    "  ax.xaxis.tick_bottom()\n",
    "\n",
    "  # Adjust label size\n",
    "  ax.yaxis.label.set_size(text_size)\n",
    "  ax.xaxis.label.set_size(text_size)\n",
    "  ax.title.set_size(text_size)\n",
    "\n",
    "  # Set threshold for different colors\n",
    "  threshold = (cm.max() + cm.min()) / 2.\n",
    "\n",
    "  # Plot the text on each cell\n",
    "  for i, j in itertools.product(range(cm.shape[0]), range(cm.shape[1])):\n",
    "    plt.text(j, i, f\"{cm[i, j]} ({cm_norm[i, j]*100:.1f}%)\",\n",
    "            horizontalalignment=\"center\",\n",
    "            color=\"white\" if cm[i, j] > threshold else \"black\",\n",
    "            size=text_size)"
   ]
  }
 ],
 "metadata": {
  "kernelspec": {
   "display_name": "Python 3",
   "language": "python",
   "name": "python3"
  },
  "language_info": {
   "codemirror_mode": {
    "name": "ipython",
    "version": 3
   },
   "file_extension": ".py",
   "mimetype": "text/x-python",
   "name": "python",
   "nbconvert_exporter": "python",
   "pygments_lexer": "ipython3",
   "version": "3.8.8"
  }
 },
 "nbformat": 4,
 "nbformat_minor": 5
}
